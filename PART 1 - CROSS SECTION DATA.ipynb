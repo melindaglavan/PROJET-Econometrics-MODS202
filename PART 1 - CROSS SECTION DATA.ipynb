{
 "cells": [
  {
   "cell_type": "markdown",
   "id": "b5dafd9b",
   "metadata": {},
   "source": [
    "**PART 1 : CROSS SECTION DATA** "
   ]
  },
  {
   "cell_type": "code",
   "execution_count": 2,
   "id": "324bc48f",
   "metadata": {},
   "outputs": [],
   "source": [
    "#Importing libraries\n",
    "import pandas as pd\n",
    "import os\n",
    "import numpy as np\n",
    "import matplotlib.pyplot as plt\n",
    "import seaborn as sns\n",
    "import statsmodels.api as sm\n",
    "from scipy import stats\n",
    "from scipy.stats import f\n",
    "from statsmodels.stats.diagnostic import het_white\n",
    "sns.set_style('dark')\n",
    "from scipy.stats import t\n",
    "import statsmodels.stats.api as sms\n",
    "from statsmodels.tsa.stattools import grangercausalitytests"
   ]
  },
  {
   "cell_type": "code",
   "execution_count": 3,
   "id": "5dc8e8ed",
   "metadata": {
    "scrolled": true
   },
   "outputs": [
    {
     "data": {
      "text/html": [
       "<div>\n",
       "<style scoped>\n",
       "    .dataframe tbody tr th:only-of-type {\n",
       "        vertical-align: middle;\n",
       "    }\n",
       "\n",
       "    .dataframe tbody tr th {\n",
       "        vertical-align: top;\n",
       "    }\n",
       "\n",
       "    .dataframe thead th {\n",
       "        text-align: right;\n",
       "    }\n",
       "</style>\n",
       "<table border=\"1\" class=\"dataframe\">\n",
       "  <thead>\n",
       "    <tr style=\"text-align: right;\">\n",
       "      <th></th>\n",
       "      <th>price</th>\n",
       "      <th>crime</th>\n",
       "      <th>nox</th>\n",
       "      <th>rooms</th>\n",
       "      <th>dist</th>\n",
       "      <th>radial</th>\n",
       "      <th>proptax</th>\n",
       "      <th>stratio</th>\n",
       "      <th>lowstat</th>\n",
       "      <th>lprice</th>\n",
       "      <th>lnox</th>\n",
       "      <th>lproptax</th>\n",
       "    </tr>\n",
       "  </thead>\n",
       "  <tbody>\n",
       "    <tr>\n",
       "      <th>0</th>\n",
       "      <td>24000</td>\n",
       "      <td>0.006</td>\n",
       "      <td>5.38</td>\n",
       "      <td>6.57</td>\n",
       "      <td>4.09</td>\n",
       "      <td>1</td>\n",
       "      <td>29.6</td>\n",
       "      <td>15.3</td>\n",
       "      <td>4.98</td>\n",
       "      <td>10.085810</td>\n",
       "      <td>1.682688</td>\n",
       "      <td>5.690360</td>\n",
       "    </tr>\n",
       "    <tr>\n",
       "      <th>1</th>\n",
       "      <td>21599</td>\n",
       "      <td>0.027</td>\n",
       "      <td>4.69</td>\n",
       "      <td>6.42</td>\n",
       "      <td>4.97</td>\n",
       "      <td>2</td>\n",
       "      <td>24.2</td>\n",
       "      <td>17.8</td>\n",
       "      <td>9.14</td>\n",
       "      <td>9.980402</td>\n",
       "      <td>1.545433</td>\n",
       "      <td>5.488938</td>\n",
       "    </tr>\n",
       "    <tr>\n",
       "      <th>2</th>\n",
       "      <td>34700</td>\n",
       "      <td>0.027</td>\n",
       "      <td>4.69</td>\n",
       "      <td>7.18</td>\n",
       "      <td>4.97</td>\n",
       "      <td>2</td>\n",
       "      <td>24.2</td>\n",
       "      <td>17.8</td>\n",
       "      <td>4.03</td>\n",
       "      <td>10.454500</td>\n",
       "      <td>1.545433</td>\n",
       "      <td>5.488938</td>\n",
       "    </tr>\n",
       "    <tr>\n",
       "      <th>3</th>\n",
       "      <td>33400</td>\n",
       "      <td>0.032</td>\n",
       "      <td>4.58</td>\n",
       "      <td>7.00</td>\n",
       "      <td>6.06</td>\n",
       "      <td>3</td>\n",
       "      <td>22.2</td>\n",
       "      <td>18.7</td>\n",
       "      <td>2.94</td>\n",
       "      <td>10.416310</td>\n",
       "      <td>1.521699</td>\n",
       "      <td>5.402678</td>\n",
       "    </tr>\n",
       "    <tr>\n",
       "      <th>4</th>\n",
       "      <td>36199</td>\n",
       "      <td>0.069</td>\n",
       "      <td>4.58</td>\n",
       "      <td>7.15</td>\n",
       "      <td>6.06</td>\n",
       "      <td>3</td>\n",
       "      <td>22.2</td>\n",
       "      <td>18.7</td>\n",
       "      <td>5.33</td>\n",
       "      <td>10.496790</td>\n",
       "      <td>1.521699</td>\n",
       "      <td>5.402678</td>\n",
       "    </tr>\n",
       "  </tbody>\n",
       "</table>\n",
       "</div>"
      ],
      "text/plain": [
       "   price  crime   nox  rooms  dist  radial  proptax  stratio  lowstat  \\\n",
       "0  24000  0.006  5.38   6.57  4.09       1     29.6     15.3     4.98   \n",
       "1  21599  0.027  4.69   6.42  4.97       2     24.2     17.8     9.14   \n",
       "2  34700  0.027  4.69   7.18  4.97       2     24.2     17.8     4.03   \n",
       "3  33400  0.032  4.58   7.00  6.06       3     22.2     18.7     2.94   \n",
       "4  36199  0.069  4.58   7.15  6.06       3     22.2     18.7     5.33   \n",
       "\n",
       "      lprice      lnox  lproptax  \n",
       "0  10.085810  1.682688  5.690360  \n",
       "1   9.980402  1.545433  5.488938  \n",
       "2  10.454500  1.545433  5.488938  \n",
       "3  10.416310  1.521699  5.402678  \n",
       "4  10.496790  1.521699  5.402678  "
      ]
     },
     "execution_count": 3,
     "metadata": {},
     "output_type": "execute_result"
    }
   ],
   "source": [
    "#Importing the dataset\n",
    "col_names = ['price', 'crime', 'nox', 'rooms', 'dist', 'radial', 'proptax',\n",
    "             'stratio','lowstat','lprice','lnox', 'lproptax']\n",
    "df_hprices = pd.read_csv('HPRICE2.raw', header=None, delim_whitespace=True, names=col_names)\n",
    "df_hprices.head()"
   ]
  },
  {
   "cell_type": "markdown",
   "id": "e914567c",
   "metadata": {},
   "source": [
    "**Question 1 : State the fundamental hypothesis under which the Ordinary Least Squares (OLS) estimators\n",
    "are unbiased.**"
   ]
  },
  {
   "cell_type": "markdown",
   "id": "7e08e838",
   "metadata": {},
   "source": [
    "\n",
    "The fundamental hypothesis ensuring unbiased estimators is the Gauss-Markov Theorem:\n",
    "\n",
    "The unobserved variables $ U $ have a mean of zero, i.e., $E(U) = 0 $\n",
    "\n",
    "The observed variables $ X $ and the unobserved variables $U $ are uncorrelated, i.e., $ \\text{Cov}(X, U) = 0 $.\n",
    "\n",
    "We refer to omitted variable bias when one of the explanatory variables (a component of $ X $) correlated both with the explained variable and with the error term is not included in the equation. In this case, the fundamental hypothesis guaranteeing that the Ordinary Least Squares (OLS) estimators are unbiased is no longer valid.\n",
    "\n"
   ]
  },
  {
   "cell_type": "markdown",
   "id": "5ef6319d",
   "metadata": {},
   "source": [
    "**Question 2 : Show that under this assumption the OLS estimators are indeed unbiased**"
   ]
  },
  {
   "cell_type": "markdown",
   "id": "985d6bf1",
   "metadata": {},
   "source": [
    "We can consider thhis model :\n",
    "Y = Xβ + ϵ\n",
    "with Y represents the dependent variable, X the matrix of independent variables, β the vector of parameters to be estimated, and ε is the error term.\n",
    "\n",
    "The OLS estimator for β, denoted as $\\hat{β}$, is the solution to the minimization problem:\n",
    "$min(β)$  $(Y−Xβ) ′(Y−Xβ)$\n",
    "\n",
    "The first-order condition for this minimization problem is:\n",
    "\n",
    "the first-order condition gives us : $-2X'Y + 2X'X\\hat{β} = 0$\n",
    "\n",
    "$\\hat{\\beta} = (X'X)^{-1} X'Y$\n",
    "\n",
    "Now we consider the expected value of $\\hat{β}$ :\n",
    "$E(\\hat{β}) = E((X'X)^{-1} X'Y) = (X'X^{-1}X'E(Y)$\n",
    "\n",
    "but under the Gauss-Markov assumptions, E(ε)=0 and so E(Y)=Xβ\n",
    "\n",
    "and the end $E(\\hat{β}) = (X'X)^{-1}X'Xβ = β$\n",
    "\n",
    "As we can see, the OLS estimators are unbiased under the assumptions of the Gauss-Markov theorem."
   ]
  },
  {
   "cell_type": "markdown",
   "id": "6d9b4f52",
   "metadata": {},
   "source": [
    "**Question 3 : Explain the sample selection bias with an example from the course**\n"
   ]
  },
  {
   "cell_type": "markdown",
   "id": "92a3c74a",
   "metadata": {},
   "source": [
    "When choosing a group of people for a study, it's crucial to ensure a proper randomization process. If not done correctly, biases can emerge, resulting in certain groups or individuals being underrepresented or excluded from the study due to flaws in the selection process.\n",
    "\n",
    "The example from the course about the relationship between the growth rate and the size of businesses illustrates this biais. Empirical analyses showed a negative relationship between growth and the size of businesses. This means that, generally, smaller businesses tend to grow faster than larger ones. However, it's noted that only highly dynamic small businesses seem to stay in the market.\n",
    "\n",
    "The selection bias comes into play here. This bias occurs when only the businesses that survived during the study period are considered, neglecting those that failed. This can lead to a distorted view of the relationship between growth and the size of businesses because the ones that failed, especially among the larger ones, are not taken into account."
   ]
  },
  {
   "cell_type": "markdown",
   "id": "9795ebc9",
   "metadata": {},
   "source": [
    "**Question 4 : Explain the omitted variable bias with an example from the course**"
   ]
  },
  {
   "cell_type": "markdown",
   "id": "6f9781af",
   "metadata": {},
   "source": [
    "Omitted variable bias happens when an important factor that should be considered in a regression model is left out. This omission can result in a distortion of the coefficients of one or more variables in the model. We talk about omitted variable bias when one of the explanatory variables (a component of $X$) is correlated both with the explained variable and with the error term and is not taken into account in the equation. In this case, the fundamental hypothesis guaranteeing that the Ordinary Least Squares (OLS) estimators are unbiased is no longer valid.\n",
    "\n",
    "Let's look at the example from the course about how using fertilizers affects how much soybeans grow. Soybean growth depends on lots of things like the weather, the quality of the soil, and whether there are pests.\n",
    "\n",
    "the experiment is picking different pieces of land, using different amounts of fertilizer, and then see how well the soybeans grow. When we analyze the data to see the connection between using fertilizers and soybean growth, there's a problem if we don't consider the initial quality of the soil.\n",
    "\n",
    "The issue is that in this experiment, we don't directly look at how good the soil was at the beginning. If we always put more fertilizer on the pieces of land that were already good, it can mess up the real effect of the fertilizer on soybean growth because the starting soil quality is also really important. By leaving out the \"soil quality\" factor in the analysis, we introduce a bias into understanding how fertilizers affect soybean growth.\n"
   ]
  },
  {
   "cell_type": "markdown",
   "id": "ae0ce4f7",
   "metadata": {},
   "source": [
    "**Question 5 : Explain the problem of multicollinearity. Is it a problem in this dataset?**\n"
   ]
  },
  {
   "cell_type": "markdown",
   "id": "17876313",
   "metadata": {},
   "source": [
    "Multicollinearity in regression poses significant challenges as it can elevate the variance of regression coefficients, leading to instability and complicating their interpretation. \n",
    "When variables are highly correlated, it becomes challenging to isolate individual effects, resulting in less reliable coefficient estimates. Moreover, if variables are collinear, then the matrix $X'X$ is not invertible, implying a lack of a unique solution for model parameters. To address these issues, it is advisable to identify and manage multicollinearity through strategies such as eliminating correlated variables, combining similar variables, or employing advanced techniques like regularization."
   ]
  },
  {
   "cell_type": "markdown",
   "id": "d1c29846",
   "metadata": {},
   "source": [
    "**Question 6 : Create three categories of nox levels (low, medium, high), corresponding to the following\n",
    "percentiles: 0-25%, 26%-74%, 75%-100%**"
   ]
  },
  {
   "cell_type": "code",
   "execution_count": 4,
   "id": "540832e9",
   "metadata": {},
   "outputs": [
    {
     "data": {
      "text/html": [
       "<div>\n",
       "<style scoped>\n",
       "    .dataframe tbody tr th:only-of-type {\n",
       "        vertical-align: middle;\n",
       "    }\n",
       "\n",
       "    .dataframe tbody tr th {\n",
       "        vertical-align: top;\n",
       "    }\n",
       "\n",
       "    .dataframe thead th {\n",
       "        text-align: right;\n",
       "    }\n",
       "</style>\n",
       "<table border=\"1\" class=\"dataframe\">\n",
       "  <thead>\n",
       "    <tr style=\"text-align: right;\">\n",
       "      <th></th>\n",
       "      <th>price</th>\n",
       "      <th>crime</th>\n",
       "      <th>nox</th>\n",
       "      <th>rooms</th>\n",
       "      <th>dist</th>\n",
       "      <th>radial</th>\n",
       "      <th>proptax</th>\n",
       "      <th>stratio</th>\n",
       "      <th>lowstat</th>\n",
       "      <th>lprice</th>\n",
       "      <th>lnox</th>\n",
       "      <th>lproptax</th>\n",
       "      <th>nox_category</th>\n",
       "    </tr>\n",
       "  </thead>\n",
       "  <tbody>\n",
       "    <tr>\n",
       "      <th>0</th>\n",
       "      <td>24000</td>\n",
       "      <td>0.006</td>\n",
       "      <td>5.38</td>\n",
       "      <td>6.57</td>\n",
       "      <td>4.09</td>\n",
       "      <td>1</td>\n",
       "      <td>29.6</td>\n",
       "      <td>15.3</td>\n",
       "      <td>4.98</td>\n",
       "      <td>10.085810</td>\n",
       "      <td>1.682688</td>\n",
       "      <td>5.690360</td>\n",
       "      <td>Medium</td>\n",
       "    </tr>\n",
       "    <tr>\n",
       "      <th>1</th>\n",
       "      <td>21599</td>\n",
       "      <td>0.027</td>\n",
       "      <td>4.69</td>\n",
       "      <td>6.42</td>\n",
       "      <td>4.97</td>\n",
       "      <td>2</td>\n",
       "      <td>24.2</td>\n",
       "      <td>17.8</td>\n",
       "      <td>9.14</td>\n",
       "      <td>9.980402</td>\n",
       "      <td>1.545433</td>\n",
       "      <td>5.488938</td>\n",
       "      <td>Medium</td>\n",
       "    </tr>\n",
       "    <tr>\n",
       "      <th>2</th>\n",
       "      <td>34700</td>\n",
       "      <td>0.027</td>\n",
       "      <td>4.69</td>\n",
       "      <td>7.18</td>\n",
       "      <td>4.97</td>\n",
       "      <td>2</td>\n",
       "      <td>24.2</td>\n",
       "      <td>17.8</td>\n",
       "      <td>4.03</td>\n",
       "      <td>10.454500</td>\n",
       "      <td>1.545433</td>\n",
       "      <td>5.488938</td>\n",
       "      <td>Medium</td>\n",
       "    </tr>\n",
       "    <tr>\n",
       "      <th>3</th>\n",
       "      <td>33400</td>\n",
       "      <td>0.032</td>\n",
       "      <td>4.58</td>\n",
       "      <td>7.00</td>\n",
       "      <td>6.06</td>\n",
       "      <td>3</td>\n",
       "      <td>22.2</td>\n",
       "      <td>18.7</td>\n",
       "      <td>2.94</td>\n",
       "      <td>10.416310</td>\n",
       "      <td>1.521699</td>\n",
       "      <td>5.402678</td>\n",
       "      <td>Medium</td>\n",
       "    </tr>\n",
       "    <tr>\n",
       "      <th>4</th>\n",
       "      <td>36199</td>\n",
       "      <td>0.069</td>\n",
       "      <td>4.58</td>\n",
       "      <td>7.15</td>\n",
       "      <td>6.06</td>\n",
       "      <td>3</td>\n",
       "      <td>22.2</td>\n",
       "      <td>18.7</td>\n",
       "      <td>5.33</td>\n",
       "      <td>10.496790</td>\n",
       "      <td>1.521699</td>\n",
       "      <td>5.402678</td>\n",
       "      <td>Medium</td>\n",
       "    </tr>\n",
       "  </tbody>\n",
       "</table>\n",
       "</div>"
      ],
      "text/plain": [
       "   price  crime   nox  rooms  dist  radial  proptax  stratio  lowstat  \\\n",
       "0  24000  0.006  5.38   6.57  4.09       1     29.6     15.3     4.98   \n",
       "1  21599  0.027  4.69   6.42  4.97       2     24.2     17.8     9.14   \n",
       "2  34700  0.027  4.69   7.18  4.97       2     24.2     17.8     4.03   \n",
       "3  33400  0.032  4.58   7.00  6.06       3     22.2     18.7     2.94   \n",
       "4  36199  0.069  4.58   7.15  6.06       3     22.2     18.7     5.33   \n",
       "\n",
       "      lprice      lnox  lproptax nox_category  \n",
       "0  10.085810  1.682688  5.690360       Medium  \n",
       "1   9.980402  1.545433  5.488938       Medium  \n",
       "2  10.454500  1.545433  5.488938       Medium  \n",
       "3  10.416310  1.521699  5.402678       Medium  \n",
       "4  10.496790  1.521699  5.402678       Medium  "
      ]
     },
     "execution_count": 4,
     "metadata": {},
     "output_type": "execute_result"
    }
   ],
   "source": [
    "# Define percentiles for categorization\n",
    "low_percentile = 25\n",
    "high_percentile = 75\n",
    "\n",
    "# Calculate percentiles for NOx levels\n",
    "low = df_hprices['nox'].quantile(low_percentile / 100)\n",
    "high = df_hprices['nox'].quantile(high_percentile / 100)\n",
    "\n",
    "# Create a new column 'nox_category' based on percentiles\n",
    "df_hprices['nox_category'] = pd.cut(df_hprices['nox'], bins=[float('-inf'), low, high, float('inf')],\n",
    "                            labels=['Low', 'Medium', 'High'], include_lowest=True)\n",
    "\n",
    "df_hprices.head()"
   ]
  },
  {
   "cell_type": "markdown",
   "id": "5970b171",
   "metadata": {},
   "source": [
    "**Question 7 : Compute for each category of nox level the average median price and comment on your\n",
    "results**"
   ]
  },
  {
   "cell_type": "code",
   "execution_count": 5,
   "id": "34f7effb",
   "metadata": {},
   "outputs": [
    {
     "name": "stdout",
     "output_type": "stream",
     "text": [
      "nox_category\n",
      "Low       26977.093750\n",
      "Medium    22741.555118\n",
      "High      17430.653226\n",
      "Name: price, dtype: float64\n"
     ]
    }
   ],
   "source": [
    "#Calculate the average median price for each nox category\n",
    "average_prices = df_hprices.groupby('nox_category')['price'].mean()\n",
    "\n",
    "print(average_prices)"
   ]
  },
  {
   "cell_type": "markdown",
   "id": "0b433bb4",
   "metadata": {},
   "source": [
    "We can see a correlation bewteen the average median price of a house and the level of nitrous oxide. The highest is the level of NOX, the cheapeast is the house."
   ]
  },
  {
   "cell_type": "markdown",
   "id": "14f47d8c",
   "metadata": {},
   "source": [
    "**Question 8 : Produce a scatter plot with the variable price on the y-axis and the variable nox on the x-axis.\n",
    "Is this a ceteris paribus effect?**"
   ]
  },
  {
   "cell_type": "code",
   "execution_count": 6,
   "id": "8dc90486",
   "metadata": {},
   "outputs": [
    {
     "data": {
      "image/png": "[encoded data removed]",
      "text/plain": [
       "<Figure size 600x400 with 1 Axes>"
      ]
     },
     "metadata": {},
     "output_type": "display_data"
    }
   ],
   "source": [
    "#Plotting the scatter plot\n",
    "plt.figure(figsize=(6, 4))\n",
    "sns.scatterplot(x='nox', y='price', data=df_hprices, alpha=0.7)\n",
    "plt.xlabel('NOx Levels')\n",
    "plt.ylabel('Price')\n",
    "plt.title('Scatter Plot of Price vs. NOx Levels')\n",
    "plt.show()\n"
   ]
  },
  {
   "cell_type": "markdown",
   "id": "cf9db68f",
   "metadata": {},
   "source": [
    "An ceteris paribus effect refers to the direct impact that one variable has on another variable while assuming that the remaining variables in the model remain constant and unchanged over time. In other words, a ceteris paribus approach simplifies the analytical process by assuming that only one variable influences another variable in the economic model. This technique allows for the isolation of effects from other events that might occur simultaneously.\n",
    "\n",
    "However, the observed effect in our case does not appear to be a ceteris paribus effect since the other features are not held constant when plotting the correlation between features. Indeed in the scatter plot,for a given NOx Level, we have a large range of prices \n",
    "It means that other variables besides Nox Levels could directly influence the prices of the houses. For example, the geographic localisation, the neighborhood, the facilities near by, are elements that could also have a positive of negative influence on the price of a house. \n",
    "\n"
   ]
  },
  {
   "cell_type": "markdown",
   "id": "83aa5f72",
   "metadata": {},
   "source": [
    "**Question 9 : Run a regression of price on a constant, crime, nox, rooms, proptax. Comment on the\n",
    "histogram of the residuals. Interpret all coefficients.**\n",
    "\n"
   ]
  },
  {
   "cell_type": "code",
   "execution_count": 7,
   "id": "825eba98",
   "metadata": {},
   "outputs": [
    {
     "name": "stdout",
     "output_type": "stream",
     "text": [
      "                            OLS Regression Results                            \n",
      "==============================================================================\n",
      "Dep. Variable:                  price   R-squared:                       0.575\n",
      "Model:                            OLS   Adj. R-squared:                  0.572\n",
      "Method:                 Least Squares   F-statistic:                     169.6\n",
      "Date:                Mon, 11 Dec 2023   Prob (F-statistic):           1.06e-91\n",
      "Time:                        10:33:30   Log-Likelihood:                -5119.6\n",
      "No. Observations:                 506   AIC:                         1.025e+04\n",
      "Df Residuals:                     501   BIC:                         1.027e+04\n",
      "Df Model:                           4                                         \n",
      "Covariance Type:            nonrobust                                         \n",
      "==============================================================================\n",
      "                 coef    std err          t      P>|t|      [0.025      0.975]\n",
      "------------------------------------------------------------------------------\n",
      "const      -1.868e+04   3215.205     -5.811      0.000    -2.5e+04   -1.24e+04\n",
      "crime       -136.5438     38.529     -3.544      0.000    -212.241     -60.846\n",
      "nox         -660.4672    314.634     -2.099      0.036   -1278.632     -42.303\n",
      "rooms       7797.9286    404.345     19.285      0.000    7003.507    8592.350\n",
      "proptax      -89.4144     23.966     -3.731      0.000    -136.500     -42.329\n",
      "==============================================================================\n",
      "Omnibus:                      264.796   Durbin-Watson:                   0.752\n",
      "Prob(Omnibus):                  0.000   Jarque-Bera (JB):             2348.397\n",
      "Skew:                           2.111   Prob(JB):                         0.00\n",
      "Kurtosis:                      12.673   Cond. No.                         546.\n",
      "==============================================================================\n",
      "\n",
      "Notes:\n",
      "[1] Standard Errors assume that the covariance matrix of the errors is correctly specified.\n"
     ]
    }
   ],
   "source": [
    "#OLS model\n",
    "X = df_hprices[[\"crime\", \"nox\", \"rooms\", \"proptax\"]]\n",
    "X = sm.add_constant(X)\n",
    "y = df_hprices[\"price\"]\n",
    "model = sm.OLS(y,X).fit()\n",
    "print(model.summary())"
   ]
  },
  {
   "cell_type": "code",
   "execution_count": 8,
   "id": "841345f9",
   "metadata": {},
   "outputs": [
    {
     "name": "stderr",
     "output_type": "stream",
     "text": [
      "C:\\Users\\melin\\anaconda3\\lib\\site-packages\\seaborn\\distributions.py:2619: FutureWarning: `distplot` is a deprecated function and will be removed in a future version. Please adapt your code to use either `displot` (a figure-level function with similar flexibility) or `histplot` (an axes-level function for histograms).\n",
      "  warnings.warn(msg, FutureWarning)\n"
     ]
    },
    {
     "data": {
      "image/png": "[encoded data removed]",
      "text/plain": [
       "<Figure size 600x400 with 1 Axes>"
      ]
     },
     "metadata": {},
     "output_type": "display_data"
    }
   ],
   "source": [
    "#Visualization of the residuals\n",
    "plt.figure(figsize=(6,4))\n",
    "sns.distplot(model.resid)\n",
    "plt.title(\"Histogram of residuals\")\n",
    "plt.show()"
   ]
  },
  {
   "cell_type": "markdown",
   "id": "a07bda5b",
   "metadata": {},
   "source": [
    "The residuals seem to follow a centered normal distribution."
   ]
  },
  {
   "cell_type": "markdown",
   "id": "1c0333c8",
   "metadata": {},
   "source": [
    "**Question 10 : Run a regression of lprice on a constant, crime, nox, rooms, proptax. Comment on the\n",
    "histogram of the residuals. Interpret all coefficients.** \n"
   ]
  },
  {
   "cell_type": "code",
   "execution_count": 9,
   "id": "6c3fe551",
   "metadata": {},
   "outputs": [
    {
     "name": "stdout",
     "output_type": "stream",
     "text": [
      "                            OLS Regression Results                            \n",
      "==============================================================================\n",
      "Dep. Variable:                 lprice   R-squared:                       0.611\n",
      "Model:                            OLS   Adj. R-squared:                  0.608\n",
      "Method:                 Least Squares   F-statistic:                     196.9\n",
      "Date:                Mon, 11 Dec 2023   Prob (F-statistic):          2.50e-101\n",
      "Time:                        10:33:31   Log-Likelihood:                -26.367\n",
      "No. Observations:                 506   AIC:                             62.73\n",
      "Df Residuals:                     501   BIC:                             83.87\n",
      "Df Model:                           4                                         \n",
      "Covariance Type:            nonrobust                                         \n",
      "==============================================================================\n",
      "                 coef    std err          t      P>|t|      [0.025      0.975]\n",
      "------------------------------------------------------------------------------\n",
      "const          8.6550      0.137     63.320      0.000       8.386       8.924\n",
      "crime         -0.0125      0.002     -7.641      0.000      -0.016      -0.009\n",
      "nox           -0.0476      0.013     -3.557      0.000      -0.074      -0.021\n",
      "rooms          0.2816      0.017     16.379      0.000       0.248       0.315\n",
      "proptax       -0.0043      0.001     -4.184      0.000      -0.006      -0.002\n",
      "==============================================================================\n",
      "Omnibus:                      118.409   Durbin-Watson:                   0.764\n",
      "Prob(Omnibus):                  0.000   Jarque-Bera (JB):              730.140\n",
      "Skew:                           0.859   Prob(JB):                    2.83e-159\n",
      "Kurtosis:                       8.629   Cond. No.                         546.\n",
      "==============================================================================\n",
      "\n",
      "Notes:\n",
      "[1] Standard Errors assume that the covariance matrix of the errors is correctly specified.\n"
     ]
    }
   ],
   "source": [
    "#OLS model\n",
    "X = df_hprices[[\"crime\", \"nox\", \"rooms\", \"proptax\"]]\n",
    "X = sm.add_constant(X)\n",
    "y = df_hprices[\"lprice\"]\n",
    "model = sm.OLS(y,X).fit()\n",
    "print(model.summary())"
   ]
  },
  {
   "cell_type": "code",
   "execution_count": 10,
   "id": "4e8d7153",
   "metadata": {},
   "outputs": [
    {
     "name": "stderr",
     "output_type": "stream",
     "text": [
      "C:\\Users\\melin\\anaconda3\\lib\\site-packages\\seaborn\\distributions.py:2619: FutureWarning: `distplot` is a deprecated function and will be removed in a future version. Please adapt your code to use either `displot` (a figure-level function with similar flexibility) or `histplot` (an axes-level function for histograms).\n",
      "  warnings.warn(msg, FutureWarning)\n"
     ]
    },
    {
     "data": {
      "image/png": "[encoded data removed]",
      "text/plain": [
       "<Figure size 600x400 with 1 Axes>"
      ]
     },
     "metadata": {},
     "output_type": "display_data"
    }
   ],
   "source": [
    "#Visualization of the residuals\n",
    "plt.figure(figsize=(6,4))\n",
    "sns.distplot(model.resid)\n",
    "plt.title(\"Histogram of residuals\")\n",
    "plt.show()"
   ]
  },
  {
   "cell_type": "markdown",
   "id": "28a5826b",
   "metadata": {},
   "source": [
    "The residuals seem to follow a centered normal distribution."
   ]
  },
  {
   "cell_type": "markdown",
   "id": "6a8f84a7",
   "metadata": {},
   "source": [
    " **Question 11 : Run a regression of lprice on a constant, crime, lnox, rooms, lproptax. Comment on the\n",
    "histogram of the residuals. Interpret all coefficients.**"
   ]
  },
  {
   "cell_type": "code",
   "execution_count": 11,
   "id": "d4535f37",
   "metadata": {
    "scrolled": true
   },
   "outputs": [
    {
     "name": "stdout",
     "output_type": "stream",
     "text": [
      "                            OLS Regression Results                            \n",
      "==============================================================================\n",
      "Dep. Variable:                 lprice   R-squared:                       0.612\n",
      "Model:                            OLS   Adj. R-squared:                  0.609\n",
      "Method:                 Least Squares   F-statistic:                     197.4\n",
      "Date:                Mon, 11 Dec 2023   Prob (F-statistic):          1.77e-101\n",
      "Time:                        10:33:32   Log-Likelihood:                -26.021\n",
      "No. Observations:                 506   AIC:                             62.04\n",
      "Df Residuals:                     501   BIC:                             83.18\n",
      "Df Model:                           4                                         \n",
      "Covariance Type:            nonrobust                                         \n",
      "==============================================================================\n",
      "                 coef    std err          t      P>|t|      [0.025      0.975]\n",
      "------------------------------------------------------------------------------\n",
      "const          9.7505      0.253     38.476      0.000       9.253      10.248\n",
      "crime         -0.0128      0.002     -8.002      0.000      -0.016      -0.010\n",
      "lnox          -0.2769      0.077     -3.591      0.000      -0.428      -0.125\n",
      "rooms          0.2802      0.017     16.282      0.000       0.246       0.314\n",
      "lproptax      -0.1779      0.042     -4.215      0.000      -0.261      -0.095\n",
      "==============================================================================\n",
      "Omnibus:                      116.110   Durbin-Watson:                   0.768\n",
      "Prob(Omnibus):                  0.000   Jarque-Bera (JB):              716.737\n",
      "Skew:                           0.838   Prob(JB):                    2.30e-156\n",
      "Kurtosis:                       8.585   Cond. No.                         241.\n",
      "==============================================================================\n",
      "\n",
      "Notes:\n",
      "[1] Standard Errors assume that the covariance matrix of the errors is correctly specified.\n"
     ]
    }
   ],
   "source": [
    "#OLS model\n",
    "X = df_hprices[[\"crime\", \"lnox\", \"rooms\", \"lproptax\"]]\n",
    "X = sm.add_constant(X)\n",
    "y = df_hprices[\"lprice\"]\n",
    "model = sm.OLS(y,X).fit()\n",
    "print(model.summary())"
   ]
  },
  {
   "cell_type": "code",
   "execution_count": 12,
   "id": "6da24b4e",
   "metadata": {},
   "outputs": [
    {
     "name": "stderr",
     "output_type": "stream",
     "text": [
      "C:\\Users\\melin\\anaconda3\\lib\\site-packages\\seaborn\\distributions.py:2619: FutureWarning: `distplot` is a deprecated function and will be removed in a future version. Please adapt your code to use either `displot` (a figure-level function with similar flexibility) or `histplot` (an axes-level function for histograms).\n",
      "  warnings.warn(msg, FutureWarning)\n"
     ]
    },
    {
     "data": {
      "image/png": "[encoded data removed]",
      "text/plain": [
       "<Figure size 600x400 with 1 Axes>"
      ]
     },
     "metadata": {},
     "output_type": "display_data"
    }
   ],
   "source": [
    "#Visualization of the residuals\n",
    "plt.figure(figsize=(6,4))\n",
    "sns.distplot(model.resid)\n",
    "plt.title(\"Histogram of residuals\")\n",
    "plt.show()"
   ]
  },
  {
   "cell_type": "markdown",
   "id": "47119f9b",
   "metadata": {},
   "source": [
    "The residuals seem to follow a centered normal distribution."
   ]
  },
  {
   "cell_type": "markdown",
   "id": "b2ec0adf",
   "metadata": {},
   "source": [
    "**Question 12 : In the specification of question 10, test the hypothesis H0: $\\hat{β}_{nox} < 0$ vs. H1: $\\hat{β}_{nox} > 0$ at the 1% level**"
   ]
  },
  {
   "cell_type": "code",
   "execution_count": 13,
   "id": "d973230b",
   "metadata": {},
   "outputs": [
    {
     "name": "stdout",
     "output_type": "stream",
     "text": [
      "T-statistic value : -3.5570290100073025\n",
      "T-critical value : -3.7469473879811375\n",
      "Reject the null hypothesis at the 1% level\n"
     ]
    }
   ],
   "source": [
    "# OLS model\n",
    "X = df_hprices[[\"crime\", \"nox\", \"rooms\", \"proptax\"]]\n",
    "X = sm.add_constant(X)\n",
    "y = df_hprices[\"lprice\"]\n",
    "model = sm.OLS(y, X).fit()\n",
    "\n",
    "# T-statistic for 'nox'\n",
    "t_stat_nox = model.tvalues[\"nox\"]\n",
    "\n",
    "# Degrees of freedom of the model\n",
    "deg_of_freedom = model.df_model\n",
    "\n",
    "# Level of significance \n",
    "alpha = 0.01\n",
    "\n",
    "# Calculation of t-critical value\n",
    "t_critical = t.ppf(alpha, df=deg_of_freedom)\n",
    "\n",
    "# We show the t-statistic and the t-critical value\n",
    "print(f\"T-statistic value : {t_stat_nox}\")\n",
    "print(f\"T-critical value : {t_critical}\")\n",
    "\n",
    "# On compare la t-statistique et le t-critique\n",
    "if t_stat_nox > t_critical:\n",
    "    print(\"Reject the null hypothesis at the 1% level\")\n",
    "else:\n",
    "    print(\"Fail to reject the null hypothesis at the 1% level\")"
   ]
  },
  {
   "cell_type": "markdown",
   "id": "0e8db925",
   "metadata": {},
   "source": [
    "**Question 13 : In the specification of question 10, test the hypothesis  H0: $\\hat{β}_{nox} = 0$ vs. H1: $\\hat{β}_{nox} \\ne 0$ at the 1% level using the p-value of the test**"
   ]
  },
  {
   "cell_type": "code",
   "execution_count": 14,
   "id": "d035ff1f",
   "metadata": {},
   "outputs": [
    {
     "name": "stdout",
     "output_type": "stream",
     "text": [
      "P-valeur : 0.00041069590525890363\n",
      "Reject the null hypothesis at the 1% level\n"
     ]
    }
   ],
   "source": [
    "# Extract the p-value for 'nox'\n",
    "p_value_nox = model.pvalues[\"nox\"]\n",
    "\n",
    "print(f\"P-valeur : {p_value_nox}\")\n",
    "\n",
    "# Check if the p-value is less than alpha\n",
    "alpha = 0.01\n",
    "\n",
    "if p_value_nox < alpha:\n",
    "    print(\"Reject the null hypothesis at the 1% level\")\n",
    "else:\n",
    "    print(\"Fail to reject the null hypothesis at the 1% level\")\n"
   ]
  },
  {
   "cell_type": "markdown",
   "id": "8be8acda",
   "metadata": {},
   "source": [
    "**Question 14 : In the specification of question 10, test the hypothesis  H0: $\\hat{β}_{nox} = \\hat{β}_{proptax} $ at the 10% level**"
   ]
  },
  {
   "cell_type": "code",
   "execution_count": 15,
   "id": "95ae5ba2",
   "metadata": {},
   "outputs": [
    {
     "name": "stdout",
     "output_type": "stream",
     "text": [
      "P-valeur : 6.280190188473237e-05\n",
      "Reject the null hypothesis at the 10% level\n"
     ]
    },
    {
     "name": "stderr",
     "output_type": "stream",
     "text": [
      "C:\\Users\\melin\\AppData\\Local\\Temp\\ipykernel_9916\\2837667069.py:3: SettingWithCopyWarning: \n",
      "A value is trying to be set on a copy of a slice from a DataFrame.\n",
      "Try using .loc[row_indexer,col_indexer] = value instead\n",
      "\n",
      "See the caveats in the documentation: https://pandas.pydata.org/pandas-docs/stable/user_guide/indexing.html#returning-a-view-versus-a-copy\n",
      "  X[\"nox_proptax\"] = df_hprices[\"nox\"] + df_hprices[\"proptax\"]\n"
     ]
    }
   ],
   "source": [
    "# OLS model\n",
    "X = df_hprices[[\"crime\", \"nox\", \"rooms\", \"proptax\"]]\n",
    "X[\"nox_proptax\"] = df_hprices[\"nox\"] + df_hprices[\"proptax\"]\n",
    "X = sm.add_constant(X)\n",
    "y = df_hprices[\"lprice\"]\n",
    "model = sm.OLS(y, X).fit()\n",
    "\n",
    "# Extract the p-value for 'nox_proptax'\n",
    "p_value_nox_proptax = model.pvalues[\"nox_proptax\"]\n",
    "\n",
    "print(f\"P-valeur : {p_value_nox_proptax}\")\n",
    "\n",
    "# Check if the p-value is less than alpha\n",
    "alpha = 0.1\n",
    "\n",
    "if p_value_nox_proptax < alpha:\n",
    "    print(\"Reject the null hypothesis at the 10% level\")\n",
    "else:\n",
    "    print(\"Fail to reject the null hypothesis at the 10% level\")\n"
   ]
  },
  {
   "cell_type": "markdown",
   "id": "2382d7b5",
   "metadata": {},
   "source": [
    "**Question 15 : In the specification of question 10, test the hypothesis  H0: $\\hat{β}_{nox} = 0$ and $ \\hat{β}_{proptax} = 0 $ at the 10% level**"
   ]
  },
  {
   "cell_type": "code",
   "execution_count": 16,
   "id": "bca8d0f2",
   "metadata": {},
   "outputs": [
    {
     "name": "stdout",
     "output_type": "stream",
     "text": [
      "Fisher statistic : 33.481965048511384\n",
      "P-value : 2.232205010467871e-14\n",
      "Reject the null hypothesis at the 10% level\n"
     ]
    }
   ],
   "source": [
    "# Constraint model\n",
    "X = df_hprices[[\"crime\", \"nox\", \"rooms\"]]\n",
    "df_nox_proptax = df_hprices[\"nox\"] + df_hprices[\"proptax\"]\n",
    "X = pd.concat([X, df_nox_proptax], axis=1)\n",
    "X.rename(columns={0: \"nox_proptax\"}, inplace=True)\n",
    "X = sm.add_constant(X)\n",
    "y = df_hprices[\"lprice\"]\n",
    "model_constrained = sm.OLS(y, X).fit()\n",
    "\n",
    "u_constrained = model_constrained.resid\n",
    "SSR0 = u_constrained.T @ u_constrained\n",
    "\n",
    "# Non constraint model\n",
    "X = df_hprices[[\"crime\", \"rooms\"]]\n",
    "X = sm.add_constant(X)\n",
    "model_unconstrained = sm.OLS(y, X).fit()\n",
    "\n",
    "u_unconstrained = model_unconstrained.resid\n",
    "SSR1 = u_unconstrained.T @ u_unconstrained\n",
    "\n",
    "# Calculation of the Fisher index\n",
    "n, k = np.shape(X)\n",
    "F = ((SSR1 - SSR0) / 2) / (SSR0 / (n - k))\n",
    "p_value = f.sf(F, 2, n - k)\n",
    "\n",
    "# We show the results\n",
    "print(f\"Fisher statistic : {F}\")\n",
    "print(f\"P-value : {p_value}\")\n",
    "\n",
    "# We test the hypothesis\n",
    "alpha = 0.1\n",
    "\n",
    "if p_value < alpha:\n",
    "    print(\"Reject the null hypothesis at the 10% level\")\n",
    "else:\n",
    "    print(\"Fail to reject the null hypothesis at the 10% level\")"
   ]
  },
  {
   "cell_type": "markdown",
   "id": "c4cc83a1",
   "metadata": {},
   "source": [
    "**Question 16 : In the specification of question 10, test the hypothesis  H0: $\\hat{β}_{nox} = -500$ and $ \\hat{β}_{proptax} = -100 $ at the 10% level**"
   ]
  },
  {
   "cell_type": "code",
   "execution_count": 17,
   "id": "de9c30e5",
   "metadata": {},
   "outputs": [
    {
     "name": "stdout",
     "output_type": "stream",
     "text": [
      "Fisher statistic : 10843777237.106432\n",
      "P-value : 0.0\n",
      "Reject the null hypothesis at the 10% level\n"
     ]
    }
   ],
   "source": [
    "# Constraint model\n",
    "X_constraint = np.column_stack((df_hprices[\"crime\"], df_hprices[\"rooms\"]))\n",
    "y_constraint = df_hprices[\"lprice\"] - 500 * df_hprices[\"nox\"] - 100 * df_hprices[\"proptax\"]\n",
    "X_constraint = sm.add_constant(X_constraint)\n",
    "model_constraint = sm.OLS(y_constraint, X_constraint).fit()\n",
    "\n",
    "u_constraint = model_constraint.resid\n",
    "SSR1 = u_constraint.T @ u_constraint\n",
    "\n",
    "# Calculation of the Fisher index\n",
    "F = ((SSR1 - SSR0) / 2) / (SSR0 / (n - k))\n",
    "p_value = f.sf(F, 2, n - k)\n",
    "\n",
    "# We show the results\n",
    "print(f\"Fisher statistic : {F}\")\n",
    "print(f\"P-value : {p_value}\")\n",
    "\n",
    "# We test the hypothesis\n",
    "alpha = 0.1\n",
    "\n",
    "if p_value < alpha:\n",
    "    print(\"Reject the null hypothesis at the 10% level\")\n",
    "else:\n",
    "    print(\"Fail to reject the null hypothesis at the 10% level\")\n"
   ]
  },
  {
   "cell_type": "markdown",
   "id": "7f7ffb85",
   "metadata": {},
   "source": [
    "**Question 17 : In the specification of question 10, test the hypothesis  H0: ${β}_{nox} + {β}_{proptax} = -1000 $ at the 10% level**"
   ]
  },
  {
   "cell_type": "code",
   "execution_count": 18,
   "id": "d49071e8",
   "metadata": {},
   "outputs": [
    {
     "name": "stdout",
     "output_type": "stream",
     "text": [
      "Fisher statistic : 9.619753446759998e-12\n",
      "P-value : 0.9999999999903948\n",
      "Fail to reject the null hypothesis at the 10% level\n"
     ]
    }
   ],
   "source": [
    "# Constraint model\n",
    "X_constraint = np.column_stack((df_hprices[\"crime\"], df_hprices[\"nox\"], df_hprices[\"rooms\"], df_hprices[\"proptax\"]))\n",
    "y_constraint = df_hprices[\"lprice\"] + df_hprices[\"proptax\"] + 1000  # Ajouter 1000 à la variable dépendante\n",
    "X_constraint = sm.add_constant(X_constraint)\n",
    "model_constraint = sm.OLS(y_constraint, X_constraint).fit()\n",
    "\n",
    "u_constraint = model_constraint.resid\n",
    "SSR1 = u_constraint.T @ u_constraint\n",
    "\n",
    "# Calculation of the Fisher index\n",
    "F = ((SSR1 - SSR0) / 2) / (SSR0 / (n - k))\n",
    "p_value = f.sf(F, 2, n - k)\n",
    "\n",
    "# We show the results\n",
    "print(f\"Fisher statistic : {F}\")\n",
    "print(f\"P-value : {p_value}\")\n",
    "\n",
    "# We test the hypothesis\n",
    "alpha = 0.1\n",
    "\n",
    "if p_value < alpha:\n",
    "    print(\"Reject the null hypothesis at the 10% level\")\n",
    "else:\n",
    "    print(\"Fail to reject the null hypothesis at the 10% level\")"
   ]
  },
  {
   "cell_type": "markdown",
   "id": "da7742ab",
   "metadata": {},
   "source": [
    "**Question 18 : in the specification of question 10, test the hypothesis that all coefficiants are the same for the observations with low levels of nox vs medium and high levels of nox**"
   ]
  },
  {
   "cell_type": "code",
   "execution_count": 19,
   "id": "ff53404c",
   "metadata": {},
   "outputs": [
    {
     "name": "stdout",
     "output_type": "stream",
     "text": [
      "Fisher statistic : 6.934112660523766\n",
      "P-value : 0.0010712348793005043\n",
      "Reject the null hypothesis at the 10% level\n"
     ]
    }
   ],
   "source": [
    "# We divide the dataframe in two categories of nox\n",
    "low_nox = df_hprices[df_hprices['nox_category'] == 'Low']\n",
    "medium_high_nox = df_hprices[df_hprices['nox_category'].isin(['Medium', 'High'])]\n",
    "\n",
    "# Model with all the observations\n",
    "X_all = df_hprices[[\"crime\", \"nox\", \"rooms\", \"proptax\"]]\n",
    "X_all = sm.add_constant(X_all)\n",
    "y_all = df_hprices[\"lprice\"]\n",
    "model_all = sm.OLS(y_all, X_all).fit()\n",
    "\n",
    "# Model for the observations with low levels of nox \n",
    "X_low_nox = low_nox[[\"crime\", \"nox\", \"rooms\", \"proptax\"]]\n",
    "X_low_nox = sm.add_constant(X_low_nox)\n",
    "y_low_nox = low_nox[\"lprice\"]\n",
    "model_low_nox = sm.OLS(y_low_nox, X_low_nox).fit()\n",
    "\n",
    "# Model for the observations with medium and high levels of nox\n",
    "X_medium_high_nox = medium_high_nox[[\"crime\", \"nox\", \"rooms\", \"proptax\"]]\n",
    "X_medium_high_nox = sm.add_constant(X_medium_high_nox)\n",
    "y_medium_high_nox = medium_high_nox[\"lprice\"]\n",
    "model_medium_high_nox = sm.OLS(y_medium_high_nox, X_medium_high_nox).fit()\n",
    "\n",
    "# Calculation of the sum of residue squares (SSR) for each model\n",
    "SSR_all = model_all.ssr\n",
    "SSR_low_nox = model_low_nox.ssr\n",
    "SSR_medium_high_nox = model_medium_high_nox.ssr\n",
    "\n",
    "# Fisher Statistic Calculation\n",
    "n_all, k_all = X_all.shape\n",
    "n_low_nox, k_low_nox = X_low_nox.shape\n",
    "n_medium_high_nox, k_medium_high_nox = X_medium_high_nox.shape\n",
    "\n",
    "F = ((SSR_all - (SSR_low_nox + SSR_medium_high_nox)) / 2) / ((SSR_low_nox + SSR_medium_high_nox) / (n_all - (k_low_nox + k_medium_high_nox)))\n",
    "\n",
    "# Calculation of the p-value\n",
    "p_value = f.sf(F, 2, n_all - (k_low_nox + k_medium_high_nox))\n",
    "\n",
    "# We show the results\n",
    "print(f\"Fisher statistic : {F}\")\n",
    "print(f\"P-value : {p_value}\")\n",
    "\n",
    "# We test the hypothesis\n",
    "alpha = 0.1\n",
    "\n",
    "if p_value < alpha:\n",
    "    print(\"Reject the null hypothesis at the 10% level\")\n",
    "else:\n",
    "    print(\"Fail to reject the null hypothesis at the 10% level\")"
   ]
  },
  {
   "cell_type": "markdown",
   "id": "dcb334e5",
   "metadata": {},
   "source": [
    "**Question 19 : Repeat the test of the question 18 but now assuming that only the coefficients of nox and proptax can change between the two group of observations. State and test H0**"
   ]
  },
  {
   "cell_type": "code",
   "execution_count": 20,
   "id": "7754bdf4",
   "metadata": {},
   "outputs": [
    {
     "name": "stdout",
     "output_type": "stream",
     "text": [
      "Fisher statistic : 7.004012989762917\n",
      "P-value : 0.0009998711244206598\n",
      "Reject the null hypothesis at the 10% level\n"
     ]
    }
   ],
   "source": [
    "# Model combined with observations from two groups\n",
    "X_combined = df_hprices[[\"crime\", \"nox\", \"rooms\", \"proptax\"]]\n",
    "X_combined = sm.add_constant(X_combined)\n",
    "y_combined = df_hprices[\"lprice\"]\n",
    "model_combined = sm.OLS(y_combined, X_combined).fit()\n",
    "\n",
    "# Calculation of the sum of residue squares (SSR) for each model\n",
    "SSR_low_nox = model_low_nox.ssr\n",
    "SSR_medium_high_nox = model_medium_high_nox.ssr\n",
    "SSR_combined = model_combined.ssr\n",
    "\n",
    "# Fisher Statistic Calculation\n",
    "n_low_nox, k_low_nox = X_low_nox.shape\n",
    "n_medium_high_nox, k_medium_high_nox = X_medium_high_nox.shape\n",
    "n_combined, k_combined = X_combined.shape\n",
    "\n",
    "# Sub-model (constrained model): only the coefficients of nox and proptax can change\n",
    "SSR_restricted = SSR_low_nox + SSR_medium_high_nox\n",
    "F = ((SSR_combined - SSR_restricted) / 2) / (SSR_restricted / (n_combined - k_combined))\n",
    "\n",
    "# Calculation of the p-value\n",
    "p_value = f.sf(F, 2, n_combined - k_combined)\n",
    "\n",
    "# We show the results\n",
    "print(f\"Fisher statistic : {F}\")\n",
    "print(f\"P-value : {p_value}\")\n",
    "\n",
    "# We test the hypothesis\n",
    "alpha = 0.1\n",
    "\n",
    "if p_value < alpha:\n",
    "    print(\"Reject the null hypothesis at the 10% level\")\n",
    "else:\n",
    "    print(\"Fail to reject the null hypothesis at the 10% level\")"
   ]
  },
  {
   "cell_type": "code",
   "execution_count": null,
   "id": "6e1f5933",
   "metadata": {},
   "outputs": [],
   "source": []
  }
 ],
 "metadata": {
  "kernelspec": {
   "display_name": "Python 3 (ipykernel)",
   "language": "python",
   "name": "python3"
  },
  "language_info": {
   "codemirror_mode": {
    "name": "ipython",
    "version": 3
   },
   "file_extension": ".py",
   "mimetype": "text/x-python",
   "name": "python",
   "nbconvert_exporter": "python",
   "pygments_lexer": "ipython3",
   "version": "3.9.13"
  }
 },
 "nbformat": 4,
 "nbformat_minor": 5
}
