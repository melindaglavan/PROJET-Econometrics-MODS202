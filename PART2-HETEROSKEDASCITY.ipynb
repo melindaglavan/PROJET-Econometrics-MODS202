{
 "cells": [
  {
   "cell_type": "markdown",
   "id": "b5dafd9b",
   "metadata": {},
   "source": [
    "**PART 2 : HETEROSKEDASTICITY**"
   ]
  },
  {
   "cell_type": "code",
   "execution_count": 27,
   "id": "324bc48f",
   "metadata": {},
   "outputs": [],
   "source": [
    "#Importing libraries\n",
    "import pandas as pd\n",
    "import numpy as np\n",
    "import matplotlib.pyplot as plt\n",
    "import seaborn as sns\n",
    "import statsmodels.api as sm\n",
    "from scipy import stats\n",
    "from scipy.stats import f\n",
    "import ruptures as rpt\n",
    "from statsmodels.stats.diagnostic import het_white\n",
    "sns.set_style('dark')\n",
    "from scipy.stats import t\n",
    "import statsmodels.stats.api as sms"
   ]
  },
  {
   "cell_type": "code",
   "execution_count": 28,
   "id": "5dc8e8ed",
   "metadata": {
    "scrolled": false
   },
   "outputs": [
    {
     "data": {
      "text/html": [
       "<div>\n",
       "<style scoped>\n",
       "    .dataframe tbody tr th:only-of-type {\n",
       "        vertical-align: middle;\n",
       "    }\n",
       "\n",
       "    .dataframe tbody tr th {\n",
       "        vertical-align: top;\n",
       "    }\n",
       "\n",
       "    .dataframe thead th {\n",
       "        text-align: right;\n",
       "    }\n",
       "</style>\n",
       "<table border=\"1\" class=\"dataframe\">\n",
       "  <thead>\n",
       "    <tr style=\"text-align: right;\">\n",
       "      <th></th>\n",
       "      <th>price</th>\n",
       "      <th>crime</th>\n",
       "      <th>nox</th>\n",
       "      <th>rooms</th>\n",
       "      <th>dist</th>\n",
       "      <th>radial</th>\n",
       "      <th>proptax</th>\n",
       "      <th>stratio</th>\n",
       "      <th>lowstat</th>\n",
       "      <th>lprice</th>\n",
       "      <th>lnox</th>\n",
       "      <th>lproptax</th>\n",
       "    </tr>\n",
       "  </thead>\n",
       "  <tbody>\n",
       "    <tr>\n",
       "      <th>0</th>\n",
       "      <td>24000</td>\n",
       "      <td>0.006</td>\n",
       "      <td>5.38</td>\n",
       "      <td>6.57</td>\n",
       "      <td>4.09</td>\n",
       "      <td>1</td>\n",
       "      <td>29.6</td>\n",
       "      <td>15.3</td>\n",
       "      <td>4.98</td>\n",
       "      <td>10.085810</td>\n",
       "      <td>1.682688</td>\n",
       "      <td>5.690360</td>\n",
       "    </tr>\n",
       "    <tr>\n",
       "      <th>1</th>\n",
       "      <td>21599</td>\n",
       "      <td>0.027</td>\n",
       "      <td>4.69</td>\n",
       "      <td>6.42</td>\n",
       "      <td>4.97</td>\n",
       "      <td>2</td>\n",
       "      <td>24.2</td>\n",
       "      <td>17.8</td>\n",
       "      <td>9.14</td>\n",
       "      <td>9.980402</td>\n",
       "      <td>1.545433</td>\n",
       "      <td>5.488938</td>\n",
       "    </tr>\n",
       "    <tr>\n",
       "      <th>2</th>\n",
       "      <td>34700</td>\n",
       "      <td>0.027</td>\n",
       "      <td>4.69</td>\n",
       "      <td>7.18</td>\n",
       "      <td>4.97</td>\n",
       "      <td>2</td>\n",
       "      <td>24.2</td>\n",
       "      <td>17.8</td>\n",
       "      <td>4.03</td>\n",
       "      <td>10.454500</td>\n",
       "      <td>1.545433</td>\n",
       "      <td>5.488938</td>\n",
       "    </tr>\n",
       "    <tr>\n",
       "      <th>3</th>\n",
       "      <td>33400</td>\n",
       "      <td>0.032</td>\n",
       "      <td>4.58</td>\n",
       "      <td>7.00</td>\n",
       "      <td>6.06</td>\n",
       "      <td>3</td>\n",
       "      <td>22.2</td>\n",
       "      <td>18.7</td>\n",
       "      <td>2.94</td>\n",
       "      <td>10.416310</td>\n",
       "      <td>1.521699</td>\n",
       "      <td>5.402678</td>\n",
       "    </tr>\n",
       "    <tr>\n",
       "      <th>4</th>\n",
       "      <td>36199</td>\n",
       "      <td>0.069</td>\n",
       "      <td>4.58</td>\n",
       "      <td>7.15</td>\n",
       "      <td>6.06</td>\n",
       "      <td>3</td>\n",
       "      <td>22.2</td>\n",
       "      <td>18.7</td>\n",
       "      <td>5.33</td>\n",
       "      <td>10.496790</td>\n",
       "      <td>1.521699</td>\n",
       "      <td>5.402678</td>\n",
       "    </tr>\n",
       "  </tbody>\n",
       "</table>\n",
       "</div>"
      ],
      "text/plain": [
       "   price  crime   nox  rooms  dist  radial  proptax  stratio  lowstat  \\\n",
       "0  24000  0.006  5.38   6.57  4.09       1     29.6     15.3     4.98   \n",
       "1  21599  0.027  4.69   6.42  4.97       2     24.2     17.8     9.14   \n",
       "2  34700  0.027  4.69   7.18  4.97       2     24.2     17.8     4.03   \n",
       "3  33400  0.032  4.58   7.00  6.06       3     22.2     18.7     2.94   \n",
       "4  36199  0.069  4.58   7.15  6.06       3     22.2     18.7     5.33   \n",
       "\n",
       "      lprice      lnox  lproptax  \n",
       "0  10.085810  1.682688  5.690360  \n",
       "1   9.980402  1.545433  5.488938  \n",
       "2  10.454500  1.545433  5.488938  \n",
       "3  10.416310  1.521699  5.402678  \n",
       "4  10.496790  1.521699  5.402678  "
      ]
     },
     "execution_count": 28,
     "metadata": {},
     "output_type": "execute_result"
    }
   ],
   "source": [
    "#Importing the dataset\n",
    "col_names = ['price', 'crime', 'nox', 'rooms', 'dist', 'radial', 'proptax',\n",
    "             'stratio','lowstat','lprice','lnox', 'lproptax']\n",
    "df_hprices = pd.read_csv('HPRICE2.raw', header=None, delim_whitespace=True, names=col_names)\n",
    "df_hprices.head()"
   ]
  },
  {
   "cell_type": "markdown",
   "id": "c6d2552a",
   "metadata": {},
   "source": [
    "**Question 20 : Explain the problem of heteroskedasticity with an example of the course.**"
   ]
  },
  {
   "cell_type": "markdown",
   "id": "d1be34f4",
   "metadata": {},
   "source": [
    "Heteroskedasticity refers to the situation where the variability of the errors (residuals) in a regression model is not constant across all levels of the independent variables. In other words, the spread or dispersion of residuals systematically changes as a function of the explanatory variables."
   ]
  },
  {
   "cell_type": "markdown",
   "id": "01a6f956",
   "metadata": {},
   "source": [
    "**Question 21 : Suppose that Eu u' = ${σ}^2 Ω $ . Show that the GLS estimator is the best linear unbiased estimator**"
   ]
  },
  {
   "cell_type": "markdown",
   "id": "e871b83f",
   "metadata": {},
   "source": [
    "We have that the covariance matrix of the errors u is ${σ}^2 Ω$ , where ${σ}^2$ is the variance of the errors and Ω the known positive definite matrix.\n",
    "We can obtain the GLS estimator as following :\n",
    "\n",
    "$$\\hat{β}_{\\text{GLS}} = (\\mathbf{X}' \\Omega^{-1} \\mathbf{X})^{-1} \\mathbf{X}' \\Omega^{-1} \\mathbf{y}$$\n",
    "\n",
    "1. Linearity : Obviously the GLS estimator is linear because each term in its expression is a linear function of the variables\n",
    "\n",
    "$$$$\n",
    "\n",
    "2. Unbiased Estimator : The GLS estimator is unbiased if $E(\\hat{\\beta}_{\\text{GLS}}) = \\beta. $\n",
    "\n",
    "We have $ E(\\hat{\\beta}_{\\text{GLS}}) = (\\mathbf{X}' \\Omega^{-1} \\mathbf{X})^{-1} \\mathbf{X}' \\Omega^{-1} E(\\mathbf{y}). $ Assuming $ E(\\mathbf{u}) = 0 $, the expected value of $\\mathbf{y}$ is $\\mathbf{X} \\beta + \\mathbf{u} $, therefore : \n",
    "\n",
    "$ E(\\hat{\\beta}_{\\text{GLS}}) = (\\mathbf{X}' \\Omega^{-1} \\mathbf{X})^{-1} \\mathbf{X}' \\Omega^{-1} (\\mathbf{X} \\beta + \\mathbf{u}). $\n",
    "\n",
    "Simplifying, we get $ E(\\hat{\\beta}_{\\text{GLS}}) = \\beta,$ which shows that the GLS estimator is unbiased.\n",
    "\n",
    "$$$$\n",
    "\n",
    "3. Minimum Variance : The GLS estimator has the minimum variance among all linear unbiased estimators if the variance-covariance matrix of the estimator is minimized.The variance-covariance matrix of the GLS estimator is given by:\n",
    "\n",
    "$\\text{Var}(\\hat{\\beta}_{\\text{GLS}}) = (\\mathbf{X}' \\Omega^{-1} \\mathbf{X})^{-1}$\n",
    "\n",
    "This is the minimum variance among all linear unbiased estimators under the assumption $Eu u' = \\sigma^2 \\Omega$.\n",
    "\n",
    "\n",
    "Therefore, the GLS estimator is the Best Linear Unbiased Estimator under the given assumption\n",
    " "
   ]
  },
  {
   "cell_type": "markdown",
   "id": "59f323f6",
   "metadata": {},
   "source": [
    "**Question 22 : in the specification of question 10, test the hypothesis of no heteroskedasticity of linear\n",
    "form, i.e. in the regression of ${u}^2$ on constant, crime, nox, rooms, proptax, test H0: $\\delta_{crime}$, $\\delta_{nox}$,\n",
    "$\\delta_{room}$, $\\delta_{proptax}$ = 0, where the coefficients $\\delta_{k}$ (k = crime, nox, rooms, proptax) are associated\n",
    "with the corresponding explanatory variables**"
   ]
  },
  {
   "cell_type": "markdown",
   "id": "34cd3662",
   "metadata": {},
   "source": [
    "In linear regression, the presence of non-homoscedastic residuals implies that the coefficients estimated by the Ordinary Least Squares (OLS) method are biased, leading to an unreliable estimation of their variance.\n",
    "Therefore, if there is suspicion of non-uniform variances (a simple representation of residuals against explanatory variables can reveal heteroscedasticity), it is advisable to conduct a heteroscedasticity test. Several tests have been developed, with null and alternative hypotheses as follows:\n",
    "\n",
    "H0 : The residuals are homoscedastic ie $\\delta_{crime}$, $\\delta_{nox}$, $\\delta_{room}$, $\\delta_{proptax}$ = 0.\n",
    "\n",
    "H1: The residuals are heteroscedastic.\n",
    "\n",
    "In order to test the hypothesis of no heteroskedasticity, we will use the Fisher test"
   ]
  },
  {
   "cell_type": "code",
   "execution_count": 29,
   "id": "40650284",
   "metadata": {},
   "outputs": [
    {
     "name": "stdout",
     "output_type": "stream",
     "text": [
      "\n",
      "========== White's Test for Heteroscedasticity ==========\n",
      "* p_value: 1.5360087876817982e-19\n",
      "* F-statistic: 11.278053381113295\n",
      "We reject the null hypothesis at 5.0% significance level.\n",
      "There is evidence of heteroscedasticity.\n"
     ]
    }
   ],
   "source": [
    "# Variables\n",
    "alpha = 0.05\n",
    "q = 4  # Number of coefficients being tested\n",
    "\n",
    "#OLS model\n",
    "X = df_hprices[[\"crime\", \"nox\", \"rooms\", \"proptax\"]]\n",
    "X = sm.add_constant(X)\n",
    "y = df_hprices[\"lprice\"]\n",
    "\n",
    "# OLS model for the original regression\n",
    "model = sm.OLS(y, X).fit()\n",
    "\n",
    "# White's test for heteroscedasticity\n",
    "white_test = sms.het_white(model.resid, model.model.exog)\n",
    "print(\"\\n========== White's Test for Heteroscedasticity ==========\")\n",
    "print(f'* p_value: {white_test[1]}')\n",
    "print(f'* F-statistic: {white_test[2]}')\n",
    "\n",
    "# Interpretation of the test result\n",
    "if white_test[1] < alpha:\n",
    "    print(f\"We reject the null hypothesis at {alpha * 100}% significance level.\")\n",
    "    print(\"There is evidence of heteroscedasticity.\")\n",
    "else:\n",
    "    print(f\"We do not reject the null hypothesis at {alpha * 100}% significance level.\")\n",
    "    print(\"There is no strong evidence of heteroscedasticity.\")\n"
   ]
  },
  {
   "cell_type": "markdown",
   "id": "42777341",
   "metadata": {},
   "source": [
    "**Question 23 : in the specification of question 11, test the hypothesis of no heteroskedasticity of linear**"
   ]
  },
  {
   "cell_type": "code",
   "execution_count": 30,
   "id": "ce7d65e6",
   "metadata": {},
   "outputs": [
    {
     "name": "stdout",
     "output_type": "stream",
     "text": [
      "\n",
      "========== White's Test for Heteroscedasticity ==========\n",
      "* p_value: 5.094548061513088e-19\n",
      "* F-statistic: 10.958866265078212\n",
      "We reject the null hypothesis at 5.0% significance level.\n",
      "There is evidence of heteroscedasticity.\n"
     ]
    }
   ],
   "source": [
    "# Variables\n",
    "alpha = 0.05\n",
    "q = 4  # Number of coefficients being tested\n",
    "\n",
    "# Assuming df_hprices is your DataFrame with the relevant columns\n",
    "X = df_hprices[[\"crime\", \"lnox\", \"rooms\", \"lproptax\"]]\n",
    "X = sm.add_constant(X)\n",
    "y = df_hprices[\"lprice\"]\n",
    "\n",
    "# OLS model for the original regression\n",
    "model = sm.OLS(y, X).fit()\n",
    "\n",
    "\n",
    "# White's test for heteroscedasticity\n",
    "white_test = sms.het_white(model.resid, model.model.exog)\n",
    "print(\"\\n========== White's Test for Heteroscedasticity ==========\")\n",
    "print(f'* p_value: {white_test[1]}')\n",
    "print(f'* F-statistic: {white_test[2]}')\n",
    "\n",
    "# Interpretation of the test result\n",
    "if white_test[1] < alpha:\n",
    "    print(f\"We reject the null hypothesis at {alpha * 100}% significance level.\")\n",
    "    print(\"There is evidence of heteroscedasticity.\")\n",
    "else:\n",
    "    print(f\"We do not reject the null hypothesis at {alpha * 100}% significance level.\")\n",
    "    print(\"There is no strong evidence of heteroscedasticity.\")\n"
   ]
  },
  {
   "cell_type": "markdown",
   "id": "4275b47a",
   "metadata": {},
   "source": [
    "**Question 24 : in the specification of question 9, test the hypothesis of no heteroskedasticity of linear**"
   ]
  },
  {
   "cell_type": "code",
   "execution_count": 31,
   "id": "04fe6e70",
   "metadata": {},
   "outputs": [
    {
     "name": "stdout",
     "output_type": "stream",
     "text": [
      "\n",
      "========== White's Test for Heteroscedasticity ==========\n",
      "* p_value: 3.859447946880169e-12\n",
      "* F-statistic: 7.045245453251409\n",
      "We reject the null hypothesis at 5.0% significance level.\n",
      "There is evidence of heteroscedasticity.\n"
     ]
    }
   ],
   "source": [
    "# Variables\n",
    "alpha = 0.05\n",
    "\n",
    "#OLS model\n",
    "X = df_hprices[[\"crime\", \"nox\", \"rooms\", \"proptax\"]]\n",
    "X = sm.add_constant(X)\n",
    "y = df_hprices[\"price\"]\n",
    "model = sm.OLS(y,X).fit()\n",
    "\n",
    "\n",
    "# White's test for heteroscedasticity\n",
    "white_test = sms.het_white(model.resid, model.model.exog)\n",
    "print(\"\\n========== White's Test for Heteroscedasticity ==========\")\n",
    "print(f'* p_value: {white_test[1]}')\n",
    "print(f'* F-statistic: {white_test[2]}')\n",
    "\n",
    "# Interpretation of the test result\n",
    "if white_test[1] < alpha:\n",
    "    print(f\"We reject the null hypothesis at {alpha * 100}% significance level.\")\n",
    "    print(\"There is evidence of heteroscedasticity.\")\n",
    "else:\n",
    "    print(f\"We do not reject the null hypothesis at {alpha * 100}% significance level.\")\n",
    "    print(\"There is no strong evidence of heteroscedasticity.\")\n"
   ]
  },
  {
   "cell_type": "markdown",
   "id": "56ff439a",
   "metadata": {},
   "source": [
    "**Question 25 :  Comment on the differences between your results of questions 22,23, 24.**"
   ]
  },
  {
   "cell_type": "markdown",
   "id": "c5074148",
   "metadata": {},
   "source": [
    "In Questions 22 and 23, where the dependent variable is \"lprice\" there is evidence of heteroscedasticity based on White's Test for Heteroscedasticity. Conversely, in Question 24, where the dependent variable is \"price\" there is strong evidence of heteroscedasticity. The logarithmic transformations applied in Questions 22 and 23 might have helped mitigate heteroscedasticity, resulting in more homoscedastic residuals. The differences in the choice of the dependent variable and transformations applied may explain the variations in the presence of heteroscedasticity across the models."
   ]
  },
  {
   "cell_type": "markdown",
   "id": "1e5bba64",
   "metadata": {},
   "source": [
    "**Question 26 : Regardless of the results of the test of question 22, identify the most significant variable \n",
    "causing heteroskedasticity using the student statistics and run a WLS regression with the \n",
    "identified variable as weight.**"
   ]
  },
  {
   "cell_type": "code",
   "execution_count": 32,
   "id": "e067d5c3",
   "metadata": {
    "scrolled": false
   },
   "outputs": [
    {
     "name": "stdout",
     "output_type": "stream",
     "text": [
      "Most Significant Variable Causing Heteroskedasticity: nox\n",
      "                            WLS Regression Results                            \n",
      "==============================================================================\n",
      "Dep. Variable:                 lprice   R-squared:                       0.635\n",
      "Model:                            WLS   Adj. R-squared:                  0.632\n",
      "Method:                 Least Squares   F-statistic:                     217.6\n",
      "Date:                Tue, 12 Dec 2023   Prob (F-statistic):          4.62e-108\n",
      "Time:                        22:05:09   Log-Likelihood:                 7.0580\n",
      "No. Observations:                 506   AIC:                            -4.116\n",
      "Df Residuals:                     501   BIC:                             17.02\n",
      "Df Model:                           4                                         \n",
      "Covariance Type:            nonrobust                                         \n",
      "==============================================================================\n",
      "                 coef    std err          t      P>|t|      [0.025      0.975]\n",
      "------------------------------------------------------------------------------\n",
      "const          8.5209      0.130     65.663      0.000       8.266       8.776\n",
      "crime         -0.0120      0.002     -7.074      0.000      -0.015      -0.009\n",
      "nox           -0.0486      0.013     -3.606      0.000      -0.075      -0.022\n",
      "rooms          0.3016      0.016     18.604      0.000       0.270       0.333\n",
      "proptax       -0.0040      0.001     -3.947      0.000      -0.006      -0.002\n",
      "==============================================================================\n",
      "Omnibus:                      111.514   Durbin-Watson:                   0.772\n",
      "Prob(Omnibus):                  0.000   Jarque-Bera (JB):              619.355\n",
      "Skew:                           0.831   Prob(JB):                    3.23e-135\n",
      "Kurtosis:                       8.159   Cond. No.                         529.\n",
      "==============================================================================\n",
      "\n",
      "Notes:\n",
      "[1] Standard Errors assume that the covariance matrix of the errors is correctly specified.\n"
     ]
    }
   ],
   "source": [
    "# OLS model for the original regression\n",
    "X = df_hprices[[\"crime\", \"nox\", \"rooms\", \"proptax\"]]\n",
    "X = sm.add_constant(X)\n",
    "y = df_hprices[\"lprice\"]\n",
    "model_original = sm.OLS(y, X).fit()\n",
    "\n",
    "# We collect Student statistics\n",
    "u = model_original.tvalues\n",
    "\n",
    "# Identify the most significant variable causing heteroskedasticity based on p-values\n",
    "most_significant_index = np.argmax(np.abs(u[1:]))  # Exclude the constant term\n",
    "variable_name = X.columns[most_significant_index]\n",
    "\n",
    "print(f\"Most Significant Variable Causing Heteroskedasticity: {variable_name}\")\n",
    "\n",
    "# Run WLS regression with the identified variable as weights\n",
    "weights = 1 / df_hprices[variable_name]\n",
    "wls_model = sm.WLS(y, X, weights=weights).fit()\n",
    "\n",
    "# Display WLS regression results\n",
    "print(wls_model.summary())"
   ]
  },
  {
   "cell_type": "code",
   "execution_count": null,
   "id": "6b25ba86",
   "metadata": {},
   "outputs": [],
   "source": []
  }
 ],
 "metadata": {
  "kernelspec": {
   "display_name": "Python 3 (ipykernel)",
   "language": "python",
   "name": "python3"
  },
  "language_info": {
   "codemirror_mode": {
    "name": "ipython",
    "version": 3
   },
   "file_extension": ".py",
   "mimetype": "text/x-python",
   "name": "python",
   "nbconvert_exporter": "python",
   "pygments_lexer": "ipython3",
   "version": "3.9.13"
  }
 },
 "nbformat": 4,
 "nbformat_minor": 5
}
